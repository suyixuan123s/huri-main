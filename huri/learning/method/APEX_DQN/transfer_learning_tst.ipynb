{
 "cells": [
  {
   "cell_type": "code",
   "execution_count": null,
   "metadata": {
    "collapsed": true,
    "pycharm": {
     "name": "#%% initialization\n"
    }
   },
   "outputs": [],
   "source": [
    "import torch\n",
    "from huri.learning.network.d3qn_attention import DuelingDQN\n",
    "from huri.learning.utils import select_device, LOGGER\n",
    "import numpy as np\n",
    "from huri.learning.env.arrangement_planning_rack_gc_apex.env import RackArrangementEnv, RackStatePlot\n",
    "\n",
    "num_tube_classes = 2\n",
    "rack_size = (3, 5)\n",
    "action_space_dim = np.prod(rack_size) ** 2\n",
    "observation_space_dim = (1, rack_size[0], rack_size[1])\n",
    "observation_space_dim_nn = (1, *rack_size)\n",
    "env = RackArrangementEnv(rack_size=rack_size,\n",
    "                         num_classes=num_tube_classes,\n",
    "                         observation_space_dim=observation_space_dim,\n",
    "                         action_space_dim=action_space_dim,\n",
    "                         is_curriculum_lr=True,\n",
    "                         is_goalpattern_fixed=True,\n",
    "                         difficulty=1, )\n",
    "action_vec = np.zeros(action_space_dim, dtype=np.float32)\n",
    "#\n",
    "device = select_device()\n",
    "\n",
    "net = DuelingDQN(obs_dim=observation_space_dim, action_dim=action_space_dim).to(device)\n",
    "\n",
    "net.load_state_dict(torch.load(\"transfer_learning_weight.pt\"))\n",
    "net.eval()"
   ]
  },
  {
   "cell_type": "code",
   "execution_count": null,
   "outputs": [],
   "source": [
    "import huri.core.file_sys as fs\n",
    "\n",
    "dataset = fs.load_pickle(\"dataset_3_5.pkl\")"
   ],
   "metadata": {
    "collapsed": false,
    "pycharm": {
     "name": "#%% load dataset\n"
    }
   }
  },
  {
   "cell_type": "code",
   "execution_count": null,
   "outputs": [],
   "source": [
    "def imshow(img):\n",
    "    import cv2\n",
    "    import IPython\n",
    "    _, ret = cv2.imencode('.jpg', img)\n",
    "    i = IPython.display.Image(data=ret)\n",
    "    IPython.display.display(i)\n",
    "\n",
    "def to_tensor(nparray:np.ndarray, device):\n",
    "    return torch.tensor(nparray,device=device, dtype=torch.float32)"
   ],
   "metadata": {
    "collapsed": false,
    "pycharm": {
     "name": "#%%\n"
    }
   }
  },
  {
   "cell_type": "code",
   "execution_count": 109,
   "outputs": [
    {
     "name": "stdout",
     "output_type": "stream",
     "text": [
      "ground truth value is  49.5\n",
      "pred value is  tensor([[50.12826]], device='cuda:0', grad_fn=<AddmmBackward0>)\n"
     ]
    },
    {
     "data": {
      "image/png": "[encoded data removed]",
      "text/plain": "<IPython.core.display.Image object>"
     },
     "metadata": {},
     "output_type": "display_data"
    }
   ],
   "source": [
    "rid = np.random.randint(len(dataset))\n",
    "state, goal, value = dataset[rid]\n",
    "value = value.max()\n",
    "drawer = RackStatePlot(goal)\n",
    "img = drawer.plot_states([state]).get_img()\n",
    "\n",
    "\n",
    "pred = net.forward_value(to_tensor(state, device=device).unsqueeze(0),\n",
    "                  to_tensor(goal, device=device).unsqueeze(0))\n",
    "print(\"ground truth value is \", value)\n",
    "print(\"pred value is \", pred)\n",
    "imshow(img)"
   ],
   "metadata": {
    "collapsed": false,
    "pycharm": {
     "name": "#%%\n"
    }
   }
  },
  {
   "cell_type": "code",
   "execution_count": 29,
   "outputs": [
    {
     "data": {
      "text/plain": "tensor([[[0., 0., 0., 1., 2.],\n         [1., 2., 2., 2., 2.],\n         [1., 1., 0., 0., 0.]]], device='cuda:0')"
     },
     "execution_count": 29,
     "metadata": {},
     "output_type": "execute_result"
    }
   ],
   "source": [
    "to_tensor(state, device=device).unsqueeze(0)"
   ],
   "metadata": {
    "collapsed": false,
    "pycharm": {
     "name": "#%%\n"
    }
   }
  }
 ],
 "metadata": {
  "kernelspec": {
   "display_name": "Python 3",
   "language": "python",
   "name": "python3"
  },
  "language_info": {
   "codemirror_mode": {
    "name": "ipython",
    "version": 2
   },
   "file_extension": ".py",
   "mimetype": "text/x-python",
   "name": "python",
   "nbconvert_exporter": "python",
   "pygments_lexer": "ipython2",
   "version": "2.7.6"
  }
 },
 "nbformat": 4,
 "nbformat_minor": 0
}