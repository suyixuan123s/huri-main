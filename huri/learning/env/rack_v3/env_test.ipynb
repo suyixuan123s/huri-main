{
 "cells": [
  {
   "cell_type": "code",
   "execution_count": 2,
   "metadata": {
    "collapsed": true
   },
   "outputs": [
    {
     "ename": "ModuleNotFoundError",
     "evalue": "No module named 'huri'",
     "output_type": "error",
     "traceback": [
      "\u001B[1;31m---------------------------------------------------------------------------\u001B[0m",
      "\u001B[1;31mModuleNotFoundError\u001B[0m                       Traceback (most recent call last)",
      "Cell \u001B[1;32mIn[2], line 1\u001B[0m\n\u001B[1;32m----> 1\u001B[0m \u001B[38;5;28;01mfrom\u001B[39;00m \u001B[38;5;21;01menv\u001B[39;00m \u001B[38;5;28;01mimport\u001B[39;00m \u001B[38;5;241m*\u001B[39m\n\u001B[0;32m      3\u001B[0m rack_size \u001B[38;5;241m=\u001B[39m (\u001B[38;5;241m3\u001B[39m, \u001B[38;5;241m3\u001B[39m)\n\u001B[0;32m      4\u001B[0m num_classes \u001B[38;5;241m=\u001B[39m \u001B[38;5;241m2\u001B[39m\n",
      "File \u001B[1;32mE:\\huri_shared\\huri\\learning\\env\\rack_v2\\env.py:9\u001B[0m\n\u001B[0;32m      6\u001B[0m \u001B[38;5;28;01mfrom\u001B[39;00m \u001B[38;5;21;01mshapely\u001B[39;00m\u001B[38;5;21;01m.\u001B[39;00m\u001B[38;5;21;01mgeometry\u001B[39;00m\u001B[38;5;21;01m.\u001B[39;00m\u001B[38;5;21;01mpolygon\u001B[39;00m \u001B[38;5;28;01mimport\u001B[39;00m Point\n\u001B[0;32m      7\u001B[0m \u001B[38;5;28;01mfrom\u001B[39;00m \u001B[38;5;21;01mtorch\u001B[39;00m\u001B[38;5;21;01m.\u001B[39;00m\u001B[38;5;21;01mdistributions\u001B[39;00m\u001B[38;5;21;01m.\u001B[39;00m\u001B[38;5;21;01mutils\u001B[39;00m \u001B[38;5;28;01mimport\u001B[39;00m lazy_property\n\u001B[1;32m----> 9\u001B[0m \u001B[38;5;28;01mfrom\u001B[39;00m \u001B[38;5;21;01mhuri\u001B[39;00m\u001B[38;5;21;01m.\u001B[39;00m\u001B[38;5;21;01mcomponents\u001B[39;00m\u001B[38;5;21;01m.\u001B[39;00m\u001B[38;5;21;01mutils\u001B[39;00m\u001B[38;5;21;01m.\u001B[39;00m\u001B[38;5;21;01mmatlibplot_utils\u001B[39;00m \u001B[38;5;28;01mimport\u001B[39;00m Plot\n\u001B[0;32m     10\u001B[0m \u001B[38;5;28;01mfrom\u001B[39;00m \u001B[38;5;21;01mhuri\u001B[39;00m\u001B[38;5;21;01m.\u001B[39;00m\u001B[38;5;21;01mlearning\u001B[39;00m\u001B[38;5;21;01m.\u001B[39;00m\u001B[38;5;21;01menv\u001B[39;00m\u001B[38;5;21;01m.\u001B[39;00m\u001B[38;5;21;01menv_meta\u001B[39;00m \u001B[38;5;28;01mimport\u001B[39;00m Gym_Proto, spaces\n\u001B[0;32m     11\u001B[0m \u001B[38;5;28;01mfrom\u001B[39;00m \u001B[38;5;21;01mhuri\u001B[39;00m\u001B[38;5;21;01m.\u001B[39;00m\u001B[38;5;21;01mdefinitions\u001B[39;00m\u001B[38;5;21;01m.\u001B[39;00m\u001B[38;5;21;01mrack_def\u001B[39;00m \u001B[38;5;28;01mimport\u001B[39;00m rectangle_polygon\n",
      "\u001B[1;31mModuleNotFoundError\u001B[0m: No module named 'huri'"
     ]
    }
   ],
   "source": [
    "from env import *\n",
    "\n",
    "rack_size = (3, 3)\n",
    "num_classes = 2\n",
    "rss = StripeRackStateScheduler(num_classes=num_classes, rack_size=rack_size, state_level=1,\n",
    "                               goal_level=2)"
   ]
  },
  {
   "cell_type": "code",
   "execution_count": null,
   "outputs": [],
   "source": [
    "import cv2\n",
    "import IPython\n",
    "\n",
    "\n",
    "def imshow(img):\n",
    "    _, ret = cv2.imencode('.jpg', img)\n",
    "    i = IPython.display.Image(data=ret)\n",
    "    IPython.display.display(i)"
   ],
   "metadata": {
    "collapsed": false
   }
  },
  {
   "cell_type": "code",
   "execution_count": null,
   "outputs": [],
   "source": [
    "goal = rss.gen_goal()\n",
    "state = rss.gen_state(goal_pattern=goal)\n",
    "state.feasible_action_set\n",
    "drawer = RackStatePlot(goal)\n",
    "fig = drawer.plot_states([state], plot_movable=True).get_img()\n",
    "imshow(fig)"
   ],
   "metadata": {
    "collapsed": false
   }
  },
  {
   "cell_type": "code",
   "execution_count": null,
   "outputs": [],
   "source": [
    "state.adjacency_matrix"
   ],
   "metadata": {
    "collapsed": false
   }
  },
  {
   "cell_type": "code",
   "execution_count": null,
   "outputs": [],
   "source": [
    "state = np.array([[0, 1, 0, 2, 0, 0, 0, 2, 2, 1],\n",
    "                  [2, 0, 0, 0, 0, 0, 1, 1, 0, 0],\n",
    "                  [0, 0, 1, 1, 0, 0, 0, 0, 2, 0],\n",
    "                  [0, 1, 0, 2, 0, 0, 0, 0, 0, 1],\n",
    "                  [0, 1, 0, 1, 0, 0, 1, 1, 2, 0]])\n",
    "drawer = RackStatePlot(np.zeros((5, 10)))\n",
    "fig = drawer.plot_states([state], plot_fillable=True, plot_movable=True).get_img()\n",
    "imshow(fig)\n"
   ],
   "metadata": {
    "collapsed": false
   }
  }
 ],
 "metadata": {
  "kernelspec": {
   "display_name": "Python 3",
   "language": "python",
   "name": "python3"
  },
  "language_info": {
   "codemirror_mode": {
    "name": "ipython",
    "version": 2
   },
   "file_extension": ".py",
   "mimetype": "text/x-python",
   "name": "python",
   "nbconvert_exporter": "python",
   "pygments_lexer": "ipython2",
   "version": "2.7.6"
  }
 },
 "nbformat": 4,
 "nbformat_minor": 0
}
